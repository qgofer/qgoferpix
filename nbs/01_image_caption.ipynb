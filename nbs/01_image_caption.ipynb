{
 "cells": [
  {
   "cell_type": "markdown",
   "metadata": {},
   "source": [
    "# core\n",
    "\n",
    "> Returns a caption for an image file entered"
   ]
  },
  {
   "cell_type": "code",
   "execution_count": 19,
   "metadata": {},
   "outputs": [],
   "source": [
    "#| default_exp core"
   ]
  },
  {
   "cell_type": "code",
   "execution_count": 20,
   "metadata": {},
   "outputs": [],
   "source": [
    "#| hide\n",
    "from nbdev.showdoc import *"
   ]
  },
  {
   "cell_type": "code",
   "execution_count": 41,
   "metadata": {},
   "outputs": [],
   "source": [
    "import requests\n",
    "\n",
    "API_URL = \"xxx\" #enter model URL from huggingface\n",
    "headers = 'xxx' #enter your huggingface token in place of \"xxx\""
   ]
  },
  {
   "cell_type": "code",
   "execution_count": 45,
   "metadata": {},
   "outputs": [],
   "source": [
    "from qgoferutils.requests import make_api_request, get_failed_response"
   ]
  },
  {
   "cell_type": "code",
   "execution_count": 56,
   "metadata": {},
   "outputs": [],
   "source": [
    "def image_to_text(URL,TOKEN,filename):\n",
    "    '''input:\n",
    "        URL(str) - Huggingface url\n",
    "        TOKEN(dict) - token to huggingface account\n",
    "        file(str) - image file\n",
    "\n",
    "        output:\n",
    "        return a string describing the image\n",
    "    '''\n",
    "    filename = filename.lower()\n",
    "    if filename.endswith(\"jpg\") or filename.endswith(\"jpeg\") or filename.endswith(\"png\"):\n",
    "        with open(filename, \"rb\") as f:\n",
    "            data = f.read()\n",
    "        response = make_api_request(URL, headers = headers, data = data)\n",
    "        response_json = response.json()\n",
    "        return response_json[0]['generated_text']\n",
    "\n",
    "    else:\n",
    "        return get_failed_response(error_message = \"Invalid file format\")\n",
    "        \n"
   ]
  },
  {
   "cell_type": "code",
   "execution_count": 57,
   "metadata": {},
   "outputs": [
    {
     "ename": "TypeError",
     "evalue": "image_to_text() missing 1 required positional argument: 'filename'",
     "output_type": "error",
     "traceback": [
      "\u001b[0;31m---------------------------------------------------------------------------\u001b[0m",
      "\u001b[0;31mTypeError\u001b[0m                                 Traceback (most recent call last)",
      "Cell \u001b[0;32mIn[57], line 6\u001b[0m\n\u001b[1;32m      3\u001b[0m     \u001b[38;5;28mprint\u001b[39m(output)\n\u001b[1;32m      5\u001b[0m \u001b[38;5;28;01mif\u001b[39;00m \u001b[38;5;18m__name__\u001b[39m \u001b[38;5;241m==\u001b[39m \u001b[38;5;124m\"\u001b[39m\u001b[38;5;124m__main__\u001b[39m\u001b[38;5;124m\"\u001b[39m:\n\u001b[0;32m----> 6\u001b[0m     main()\n",
      "Cell \u001b[0;32mIn[57], line 2\u001b[0m, in \u001b[0;36mmain\u001b[0;34m()\u001b[0m\n\u001b[1;32m      1\u001b[0m \u001b[38;5;28;01mdef\u001b[39;00m \u001b[38;5;21mmain\u001b[39m():\n\u001b[0;32m----> 2\u001b[0m     image_text \u001b[38;5;241m=\u001b[39m output \u001b[38;5;241m=\u001b[39m image_to_text(API_URL,headers)\n\u001b[1;32m      3\u001b[0m     \u001b[38;5;28mprint\u001b[39m(output)\n",
      "\u001b[0;31mTypeError\u001b[0m: image_to_text() missing 1 required positional argument: 'filename'"
     ]
    }
   ],
   "source": [
    "def main():\n",
    "    image_text = output = image_to_text(API_URL,headers,filename) #replace the 3 parameters with actual arguments\n",
    "    print(output)\n",
    "\n",
    "if __name__ == \"__main__\":\n",
    "    main()"
   ]
  },
  {
   "cell_type": "code",
   "execution_count": 52,
   "metadata": {},
   "outputs": [],
   "source": [
    "#| export\n",
    "def foo(): pass"
   ]
  },
  {
   "cell_type": "code",
   "execution_count": 24,
   "metadata": {},
   "outputs": [],
   "source": [
    "#| hide\n",
    "import nbdev; nbdev.nbdev_export()"
   ]
  },
  {
   "cell_type": "code",
   "execution_count": null,
   "metadata": {},
   "outputs": [],
   "source": []
  }
 ],
 "metadata": {
  "kernelspec": {
   "display_name": "Python 3 (ipykernel)",
   "language": "python",
   "name": "python3"
  },
  "language_info": {
   "codemirror_mode": {
    "name": "ipython",
    "version": 3
   },
   "file_extension": ".py",
   "mimetype": "text/x-python",
   "name": "python",
   "nbconvert_exporter": "python",
   "pygments_lexer": "ipython3",
   "version": "3.11.8"
  }
 },
 "nbformat": 4,
 "nbformat_minor": 4
}
