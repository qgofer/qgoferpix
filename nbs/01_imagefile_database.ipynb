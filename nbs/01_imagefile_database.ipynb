{
 "cells": [
  {
   "cell_type": "markdown",
   "metadata": {},
   "source": [
    "# imagefile_database\n",
    "\n",
    "> This module stores image file paths in sqlite3 database"
   ]
  },
  {
   "cell_type": "code",
   "execution_count": 1,
   "metadata": {},
   "outputs": [],
   "source": [
    "#| default_exp core"
   ]
  },
  {
   "cell_type": "code",
   "execution_count": 2,
   "metadata": {},
   "outputs": [],
   "source": [
    "#| hide\n",
    "from nbdev.showdoc import *"
   ]
  },
  {
   "cell_type": "code",
   "execution_count": 3,
   "metadata": {},
   "outputs": [
    {
     "name": "stdout",
     "output_type": "stream",
     "text": [
      "2024-05-07 12:25:55,326 - qgofer - INFO - Logging to /Users/josiah/.qgofer/logs/95sAcT7qTWmRqj0sSPP8WA_log_24_05_07_12_25_55.log\n"
     ]
    }
   ],
   "source": [
    "#| export\n",
    "from qgoferutils.config import QGoferConfig\n",
    "from qgoferutils.manage_index import index_folders\n",
    "from qgoferutils.db import QGoferDBWrapper\n",
    "from pathlib import Path"
   ]
  },
  {
   "cell_type": "code",
   "execution_count": 4,
   "metadata": {},
   "outputs": [],
   "source": [
    "q = QGoferConfig()\n",
    "home_dir = q.home"
   ]
  },
  {
   "cell_type": "code",
   "execution_count": 5,
   "metadata": {},
   "outputs": [],
   "source": [
    "def image_filepaths(home_path:str = home_dir):\n",
    "    \"\"\"\n",
    "    Return the file path of all images\n",
    "    :param home_path: The home path of the user\n",
    "    return: A list of strings, each with an image file path\n",
    "    \"\"\"\n",
    "    locations = []\n",
    "    for path in index_folders(home_path, data_type = \"image\"):\n",
    "        locations.append(path.as_posix())\n",
    "    return locations"
   ]
  },
  {
   "cell_type": "code",
   "execution_count": 6,
   "metadata": {},
   "outputs": [],
   "source": [
    "def filepath_into_database(image_paths:list = image_filepaths()):\n",
    "    \"\"\"\n",
    "    Insert image paths into database\n",
    "    :param image_path: The file paths of the images\n",
    "    return: None\n",
    "    \"\"\"\n",
    "    v = QGoferDBWrapper('images.db')\n",
    "    v.create_table(\"image_paths\", \" 'file_path' \" )\n",
    "    for location in image_paths:\n",
    "        v.insert(\"image_paths\", columns = \" 'file_path' \", values = f\" '{location}' \")"
   ]
  },
  {
   "cell_type": "code",
   "execution_count": 7,
   "metadata": {},
   "outputs": [],
   "source": [
    "filepath_into_database()"
   ]
  },
  {
   "cell_type": "code",
   "execution_count": 8,
   "metadata": {},
   "outputs": [],
   "source": [
    "#| hide\n",
    "import nbdev; nbdev.nbdev_export()"
   ]
  },
  {
   "cell_type": "code",
   "execution_count": null,
   "metadata": {},
   "outputs": [],
   "source": []
  }
 ],
 "metadata": {
  "kernelspec": {
   "display_name": "Python 3 (ipykernel)",
   "language": "python",
   "name": "python3"
  },
  "language_info": {
   "codemirror_mode": {
    "name": "ipython",
    "version": 3
   },
   "file_extension": ".py",
   "mimetype": "text/x-python",
   "name": "python",
   "nbconvert_exporter": "python",
   "pygments_lexer": "ipython3",
   "version": "3.11.8"
  }
 },
 "nbformat": 4,
 "nbformat_minor": 4
}
